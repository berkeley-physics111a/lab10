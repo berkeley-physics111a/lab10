{
 "cells": [
  {
   "cell_type": "code",
   "execution_count": null,
   "id": "7555ee07",
   "metadata": {},
   "outputs": [],
   "source": [
    "import numpy as np\n",
    "import matplotlib.pyplot as plt\n",
    "from WF_SDK import device\n",
    "from WF_SDK import scope\n",
    "from WF_SDK import wavegen\n",
    "\n",
    "%matplotlib inline"
   ]
  },
  {
   "cell_type": "code",
   "execution_count": null,
   "id": "b8343031",
   "metadata": {},
   "outputs": [],
   "source": [
    "class ADSHardware():\n",
    "    \"\"\"Class of functions for interfacing with the ADS.\n",
    "    \"\"\"\n",
    "\n",
    "    def __init__(self):\n",
    "        self.handle = None\n",
    "\n",
    "    def startup(self):\n",
    "        \"\"\"Connects to the ADS. Defines 'handle', the address to the ADS.\n",
    "        Must be run at the beginning of every program using the ADS.\n",
    "        \"\"\"\n",
    "        self.handle = device.open()\n",
    "\n",
    "    def open_scope(self, buffer_size=1000, sample_freq=100e6):\n",
    "        \"\"\"Opens connection to the scope.\n",
    "\n",
    "        Args:\n",
    "            buffer_size (int, optional): How many data points are temporarily stored\n",
    "            before being returned. The buffer is a temporary slot for storing a small amount of\n",
    "            data before it is transferred to its final destination. Defaults to 1000.\n",
    "            sample_freq (int, optional): How frequently the oscilloscope will sample\n",
    "            from the input. Defaults to 100e6. You can decrease this if you have too\n",
    "            many data points/the function is taking awhile to run for the time scale you need.\n",
    "            (1e6 or even 16e3 can be reasonable selections.)\n",
    "        \"\"\"\n",
    "        scope.open(self.handle, buffer_size=buffer_size, sampling_frequency=sample_freq)\n",
    "\n",
    "    def trigger_scope(self, channel=1, level=0.1):\n",
    "        \"\"\"Sets trigger level for the scope. Kind of a buggy function; not used.\n",
    "\n",
    "        Args:\n",
    "            channel (int, optional): Selects which channel of scope to read out. \n",
    "            Defaults to 1.\n",
    "            level (float, optional): Sets trigger level for scope. Defaults to 0.1.\n",
    "        \"\"\"\n",
    "        scope.trigger(self.handle, enable=True, source=scope.trigger_source.analog, channel=channel,\n",
    "                      edge_rising=True, level=level)\n",
    "\n",
    "    def read_scope(self, channel=1):\n",
    "        \"\"\"Collects data from the scope.\n",
    "\n",
    "        Args:\n",
    "            channel (int, optional): Which channel to read from. Defaults to 1.\n",
    "\n",
    "        Returns:\n",
    "            buffer (array): An array of output data points. The buffer is a temporary slot \n",
    "            for storing a small amount of data before it is transferred to its final destination.\n",
    "        \"\"\"\n",
    "        buffer = scope.record(self.handle, channel=channel)\n",
    "        return buffer\n",
    "\n",
    "    def close_scope(self):\n",
    "        \"\"\"Closes connection to the scope.\n",
    "        \"\"\"\n",
    "        scope.close(self.handle)\n",
    "\n",
    "    def use_wavegen(self, channel=1, function=wavegen.function.sine, offset_v=0, freq_hz=1e3, amp_v=1):\n",
    "        \"\"\"Runs the wavegen producing function with given parameters.\n",
    "\n",
    "        Args:\n",
    "            channel (int, optional): Which channel output is at. Defaults to 1.\n",
    "            function (function object, optional): What type of function to output. \n",
    "            Defaults to wavegen.function.sine.\n",
    "            offset (int, optional): Voltage offset (V). Defaults to 0.\n",
    "            freq (int, optional): Frequency (Hz). Defaults to 1e3.\n",
    "            amp (int, optional): Amplitude (V). Defaults to 1.\n",
    "        \"\"\"\n",
    "        wavegen.generate(self.handle, channel=channel, function=function, offset=offset_v,\n",
    "                         frequency=freq_hz, amplitude=amp_v)\n",
    "\n",
    "    def close_wavegen(self):\n",
    "        \"\"\"Closes wavegen.\n",
    "        \"\"\"\n",
    "        wavegen.close(self.handle)\n",
    "\n",
    "    def disconnect(self):\n",
    "        \"\"\"Closes ADS connection. Must be run at the end of every program.\n",
    "        \"\"\"\n",
    "        device.close(self.handle)"
   ]
  },
  {
   "cell_type": "code",
   "execution_count": null,
   "id": "706f14f7",
   "metadata": {},
   "outputs": [],
   "source": [
    "def oscilloscope_run(ads_object: ADSHardware, n_points: int, channel: int, sampling_freq=1e6):\n",
    "    \"\"\"Collects data from the oscilloscope.\n",
    "\n",
    "    Args:\n",
    "        ads_object (ADSHardware object): the ADS being used\n",
    "        n_points (int): number of data points to collect; 1000-2000 is a good starting point\n",
    "        channel (int): which channel to collect data from\n",
    "        sampling_freq (int, optional): How frequently the oscilloscope will sample\n",
    "        from the input. Defaults to 1e6. You can decrease this if you have too\n",
    "        many data points/the function is taking awhile to run for the time scale you need.\n",
    "        (16e3 can be a reasonable selection.)\n",
    "\n",
    "    Returns:\n",
    "        data (dict): has two keys, \"x\" and \"y\" which have time (ms) and voltage (V) data\n",
    "    \"\"\"\n",
    "    #test 16 khz, 1 mhz as well for sampling_freq\n",
    "    data = {}\n",
    "    ads_object.open_scope(sample_freq=sampling_freq)\n",
    "    buffer = ads_object.read_scope(channel=channel)\n",
    "    data[\"y\"] = np.mean(buffer)\n",
    "    data[\"x\"] = np.array([0])\n",
    "    for i in range(n_points):\n",
    "        buffer = np.mean(ads_object.read_scope(channel=channel))\n",
    "        data[\"y\"] = np.append(data[\"y\"], buffer)\n",
    "        #MODIFY THE LINE BELOW THIS ONE IN L10.2(d)\n",
    "        data[\"x\"] = np.append(data[\"x\"], np.array([i]))\n",
    "    ads_object.close_scope()\n",
    "    return data"
   ]
  },
  {
   "cell_type": "code",
   "execution_count": null,
   "id": "904b21dd",
   "metadata": {},
   "outputs": [],
   "source": [
    "def fft(data: dict):\n",
    "    \"\"\"Takes an FFT of input data.\n",
    "\n",
    "    Args:\n",
    "        data (dict): Provides x data in ms and y data in V obtained from oscilloscope.\n",
    "    Returns:\n",
    "        fft_result (dict): a dictionary with two keys, \"frequencies\" and \"magnitudes\",\n",
    "                            containing the frequencies and magnitudes from the FFT.\n",
    "    \"\"\"\n",
    "    fft_result = {}\n",
    "    #FILL IN THIS FUNCTION FOR L10.3(b) and L10.3(c)\n",
    "\n",
    "    fft_result[\"frequencies\"] = ...\n",
    "    fft_result[\"magnitudes\"] = ...\n",
    "\n",
    "    return fft_result"
   ]
  },
  {
   "cell_type": "code",
   "execution_count": null,
   "id": "e40d5e99",
   "metadata": {},
   "outputs": [],
   "source": [
    "wavegen_functions = {\"sine\":wavegen.function.sine, \"square\":wavegen.function.square,\n",
    "                     \"triangle\":wavegen.function.triangle}"
   ]
  },
  {
   "cell_type": "code",
   "execution_count": null,
   "id": "2549832f",
   "metadata": {},
   "outputs": [],
   "source": [
    "ads = ADSHardware()\n",
    "ads.startup()"
   ]
  },
  {
   "cell_type": "code",
   "execution_count": null,
   "id": "9352170e",
   "metadata": {},
   "outputs": [],
   "source": [
    "\n",
    "ads.use_wavegen(channel=1, function=wavegen_functions[\"sine\"], offset_v=0, freq_hz=1e3, amp_v=1)\n",
    "### FILL IN THIS LINE FOR L10.2(a)\n",
    "raw_data = ...\n",
    "ads.close_wavegen()"
   ]
  },
  {
   "cell_type": "code",
   "execution_count": null,
   "id": "6d150454",
   "metadata": {},
   "outputs": [],
   "source": [
    "### UNCOMMENT THIS CODE FOR L10.3(a)\n",
    "#fft_data = fft(raw_data)"
   ]
  },
  {
   "cell_type": "code",
   "execution_count": null,
   "id": "0f682e65",
   "metadata": {},
   "outputs": [],
   "source": [
    "### UNCOMMENT THIS CODE FOR L10.2(b)\n",
    "#plt.plot(raw_data[\"x\"], raw_data[\"y\"])\n",
    "#plt.xlabel('Time (ms)')\n",
    "#plt.ylabel('Voltage (V)')\n",
    "#plt.show()"
   ]
  },
  {
   "cell_type": "code",
   "execution_count": null,
   "id": "0e8d7036",
   "metadata": {},
   "outputs": [],
   "source": [
    "### PLOT YOUR DATA HERE FOR L10.3(d)"
   ]
  },
  {
   "cell_type": "code",
   "execution_count": null,
   "id": "89205b13",
   "metadata": {},
   "outputs": [],
   "source": [
    "#Only run this cell if your code errored in the middle of oscilloscope_run()\n",
    "ads.close_scope()"
   ]
  },
  {
   "cell_type": "code",
   "execution_count": null,
   "id": "e65688c3",
   "metadata": {},
   "outputs": [],
   "source": [
    "#Run this cell at the end of every test\n",
    "ads.close_wavegen()\n",
    "ads.disconnect()"
   ]
  }
 ],
 "metadata": {
  "kernelspec": {
   "display_name": "Python 3",
   "language": "python",
   "name": "python3"
  },
  "language_info": {
   "codemirror_mode": {
    "name": "ipython",
    "version": 3
   },
   "file_extension": ".py",
   "mimetype": "text/x-python",
   "name": "python",
   "nbconvert_exporter": "python",
   "pygments_lexer": "ipython3",
   "version": "3.12.3"
  }
 },
 "nbformat": 4,
 "nbformat_minor": 5
}
