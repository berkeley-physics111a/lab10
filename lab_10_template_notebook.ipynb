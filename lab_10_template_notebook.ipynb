{
 "cells": [
  {
   "cell_type": "code",
   "execution_count": 1,
   "id": "7555ee07",
   "metadata": {},
   "outputs": [],
   "source": [
    "import numpy as np\n",
    "import matplotlib.pyplot as plt\n",
    "from WF_SDK import device\n",
    "from WF_SDK import scope\n",
    "from WF_SDK import wavegen\n",
    "from ads import ADSHardware\n",
    "%matplotlib inline"
   ]
  },
  {
   "cell_type": "code",
   "execution_count": null,
   "id": "706f14f7",
   "metadata": {},
   "outputs": [],
   "source": [
    "def oscilloscope_run(\n",
    "    ads_object: ADSHardware, n_points: int, channel: int, sampling_freq=1e6\n",
    "):\n",
    "    \"\"\"Collects data from the oscilloscope.\n",
    "\n",
    "    Args:\n",
    "        ads_object (ADSHardware object): the ADS being used\n",
    "        n_points (int): number of data points to collect; 1000-2000 is a good starting point\n",
    "        channel (int): which channel to collect data from\n",
    "        sampling_freq (int, optional): How frequently the oscilloscope will sample\n",
    "        from the input. Defaults to 1e6. You can decrease this if you have too\n",
    "        many data points/the function is taking awhile to run for the time scale you need.\n",
    "        (16e3 can be a reasonable selection.)\n",
    "\n",
    "    Returns:\n",
    "        data (dict): has two keys, \"x\" and \"y\" which have time (ms) and voltage (V) data\n",
    "    \"\"\"\n",
    "    # test 16 khz, 1 mhz as well for sampling_freq\n",
    "    data = {}\n",
    "    ads_object.open_scope(sample_freq=sampling_freq)\n",
    "    buffer = ads_object.read_scope(channel=channel)\n",
    "    data[\"y\"] = np.mean(buffer)\n",
    "    data[\"x\"] = np.array([0])\n",
    "    for i in range(n_points):\n",
    "        buffer = np.mean(ads_object.read_scope(channel=channel))\n",
    "        data[\"y\"] = np.append(data[\"y\"], buffer)\n",
    "        # MODIFY THE LINE BELOW THIS ONE IN L10.2(d)\n",
    "        data[\"x\"] = np.append(data[\"x\"], np.array([i]))\n",
    "    ads_object.close_scope()\n",
    "    return data"
   ]
  },
  {
   "cell_type": "code",
   "execution_count": null,
   "id": "904b21dd",
   "metadata": {},
   "outputs": [],
   "source": [
    "def fft(data: dict):\n",
    "    \"\"\"Takes an FFT of input data.\n",
    "\n",
    "    Args:\n",
    "        data (dict): Provides x data in ms and y data in V obtained from oscilloscope.\n",
    "    Returns:\n",
    "        fft_result (dict): a dictionary with two keys, \"frequencies\" and \"magnitudes\",\n",
    "                            containing the frequencies and magnitudes from the FFT.\n",
    "    \"\"\"\n",
    "    fft_result = {}\n",
    "    # FILL IN THIS FUNCTION FOR L10.3(b) and L10.3(c)\n",
    "\n",
    "    fft_result[\"frequencies\"] = ...\n",
    "    fft_result[\"magnitudes\"] = ...\n",
    "\n",
    "    return fft_result"
   ]
  },
  {
   "cell_type": "code",
   "execution_count": null,
   "id": "e40d5e99",
   "metadata": {},
   "outputs": [],
   "source": [
    "wavegen_functions = {\n",
    "    \"sine\": wavegen.function.sine,\n",
    "    \"square\": wavegen.function.square,\n",
    "    \"triangle\": wavegen.function.triangle,\n",
    "}"
   ]
  },
  {
   "cell_type": "code",
   "execution_count": 5,
   "id": "2549832f",
   "metadata": {},
   "outputs": [
    {
     "name": "stderr",
     "output_type": "stream",
     "text": [
      "[ATTEMPT] Opening ADS device\n",
      "[SUCCESS] Opened device Analog Discovery 2 handle=c_int(1) addr=4459821592\n"
     ]
    }
   ],
   "source": [
    "ads = ADSHardware()\n",
    "ads.startup()"
   ]
  },
  {
   "cell_type": "code",
   "execution_count": null,
   "id": "9352170e",
   "metadata": {},
   "outputs": [],
   "source": [
    "ads.use_wavegen(\n",
    "    channel=1, function=wavegen_functions[\"sine\"], offset_v=0, freq_hz=1e3, amp_v=1\n",
    ")\n",
    "### FILL IN THIS LINE FOR L10.2(a)\n",
    "raw_data = ...\n",
    "ads.close_wavegen()"
   ]
  },
  {
   "cell_type": "code",
   "execution_count": null,
   "id": "6d150454",
   "metadata": {},
   "outputs": [],
   "source": [
    "### UNCOMMENT THIS CODE FOR L10.3(a)\n",
    "# fft_data = fft(raw_data)"
   ]
  },
  {
   "cell_type": "code",
   "execution_count": null,
   "id": "0f682e65",
   "metadata": {},
   "outputs": [],
   "source": [
    "### UNCOMMENT THIS CODE FOR L10.2(b)\n",
    "# plt.plot(raw_data[\"x\"], raw_data[\"y\"])\n",
    "# plt.xlabel('Time (ms)')\n",
    "# plt.ylabel('Voltage (V)')\n",
    "# plt.show()"
   ]
  },
  {
   "cell_type": "code",
   "execution_count": 9,
   "id": "0e8d7036",
   "metadata": {},
   "outputs": [],
   "source": [
    "### PLOT YOUR DATA HERE FOR L10.3(d)"
   ]
  },
  {
   "cell_type": "code",
   "execution_count": null,
   "id": "89205b13",
   "metadata": {},
   "outputs": [],
   "source": [
    "# Only run this cell if your code errored in the middle of oscilloscope_run()\n",
    "ads.close_scope()"
   ]
  },
  {
   "cell_type": "code",
   "execution_count": null,
   "id": "e65688c3",
   "metadata": {},
   "outputs": [
    {
     "name": "stderr",
     "output_type": "stream",
     "text": [
      "[ATTEMPT] Closing device Analog Discovery 2 handle=c_int(1) addr=4459821592\n",
      "[SUCCESS] Closed device  handle=c_int(0) addr=4459821592\n"
     ]
    }
   ],
   "source": [
    "# Run this cell at the end of every test\n",
    "ads.close_wavegen()\n",
    "ads.disconnect()"
   ]
  }
 ],
 "metadata": {
  "kernelspec": {
   "display_name": "phys111a-lab10-py3.11",
   "language": "python",
   "name": "python3"
  },
  "language_info": {
   "codemirror_mode": {
    "name": "ipython",
    "version": 3
   },
   "file_extension": ".py",
   "mimetype": "text/x-python",
   "name": "python",
   "nbconvert_exporter": "python",
   "pygments_lexer": "ipython3",
   "version": "3.11.12"
  }
 },
 "nbformat": 4,
 "nbformat_minor": 5
}
